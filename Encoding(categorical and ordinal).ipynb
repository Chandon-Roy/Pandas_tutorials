{
 "cells": [
  {
   "cell_type": "markdown",
   "id": "b32c11e6-bcf2-43ee-ae5e-16db36f90269",
   "metadata": {},
   "source": [
    "<h4>Perform the variable encoding on the following type of data.</h4>\n",
    "    <ol><li>Categorical</li></ol>\n",
    "    \n",
    "<h4>1.What is the encoding categorical?</h4>\n",
    "    <p>-Encoding categorical data is a process of converting categorical data into integer format so that the \n",
    "    data with converted categorical values can be provided to the models to give and improve the predictions.</p>\n"
   ]
  },
  {
   "cell_type": "code",
   "execution_count": 10,
   "id": "9eb04546-959f-4692-a2d5-421bb0d890ed",
   "metadata": {},
   "outputs": [],
   "source": [
    "import pandas as pd\n",
    "import numpy as np"
   ]
  },
  {
   "cell_type": "code",
   "execution_count": 5,
   "id": "0d59db37-0aa3-4989-a5fa-ce4aeb0b1c77",
   "metadata": {},
   "outputs": [],
   "source": [
    "data1 = pd.read_excel('MOVIE.xlsx')"
   ]
  },
  {
   "cell_type": "code",
   "execution_count": 6,
   "id": "e1dc15fc-946c-47c2-a2fc-12fedf78f06f",
   "metadata": {},
   "outputs": [
    {
     "data": {
      "text/html": [
       "<div>\n",
       "<style scoped>\n",
       "    .dataframe tbody tr th:only-of-type {\n",
       "        vertical-align: middle;\n",
       "    }\n",
       "\n",
       "    .dataframe tbody tr th {\n",
       "        vertical-align: top;\n",
       "    }\n",
       "\n",
       "    .dataframe thead th {\n",
       "        text-align: right;\n",
       "    }\n",
       "</style>\n",
       "<table border=\"1\" class=\"dataframe\">\n",
       "  <thead>\n",
       "    <tr style=\"text-align: right;\">\n",
       "      <th></th>\n",
       "      <th>S.no</th>\n",
       "      <th>Name</th>\n",
       "      <th>rating</th>\n",
       "    </tr>\n",
       "  </thead>\n",
       "  <tbody>\n",
       "    <tr>\n",
       "      <th>0</th>\n",
       "      <td>1</td>\n",
       "      <td>DDLJ</td>\n",
       "      <td>5 star</td>\n",
       "    </tr>\n",
       "    <tr>\n",
       "      <th>1</th>\n",
       "      <td>2</td>\n",
       "      <td>War</td>\n",
       "      <td>4 star</td>\n",
       "    </tr>\n",
       "    <tr>\n",
       "      <th>2</th>\n",
       "      <td>3</td>\n",
       "      <td>Pathan</td>\n",
       "      <td>3 star</td>\n",
       "    </tr>\n",
       "    <tr>\n",
       "      <th>3</th>\n",
       "      <td>4</td>\n",
       "      <td>Home Alone</td>\n",
       "      <td>3 star</td>\n",
       "    </tr>\n",
       "    <tr>\n",
       "      <th>4</th>\n",
       "      <td>5</td>\n",
       "      <td>Avengers</td>\n",
       "      <td>5 star</td>\n",
       "    </tr>\n",
       "    <tr>\n",
       "      <th>5</th>\n",
       "      <td>6</td>\n",
       "      <td>Spider Man</td>\n",
       "      <td>4 star</td>\n",
       "    </tr>\n",
       "    <tr>\n",
       "      <th>6</th>\n",
       "      <td>7</td>\n",
       "      <td>Tiger</td>\n",
       "      <td>3 star</td>\n",
       "    </tr>\n",
       "    <tr>\n",
       "      <th>7</th>\n",
       "      <td>8</td>\n",
       "      <td>ABCD 3</td>\n",
       "      <td>2 star</td>\n",
       "    </tr>\n",
       "  </tbody>\n",
       "</table>\n",
       "</div>"
      ],
      "text/plain": [
       "   S.no         Name  rating\n",
       "0      1        DDLJ  5 star\n",
       "1      2         War  4 star\n",
       "2      3      Pathan  3 star\n",
       "3      4  Home Alone  3 star\n",
       "4      5   Avengers   5 star\n",
       "5      6  Spider Man  4 star\n",
       "6      7       Tiger  3 star\n",
       "7      8      ABCD 3  2 star"
      ]
     },
     "execution_count": 6,
     "metadata": {},
     "output_type": "execute_result"
    }
   ],
   "source": [
    "data1"
   ]
  },
  {
   "cell_type": "code",
   "execution_count": 123,
   "id": "0336df4c-f92e-4157-8199-bad28303701d",
   "metadata": {},
   "outputs": [
    {
     "data": {
      "text/plain": [
       "3 star    3\n",
       "5 star    2\n",
       "4 star    2\n",
       "2 star    1\n",
       "Name: rating, dtype: int64"
      ]
     },
     "execution_count": 123,
     "metadata": {},
     "output_type": "execute_result"
    }
   ],
   "source": [
    "#value_counts():It will count the number of records for every combination of unique values for every column.\n",
    "data1['rating'].value_counts()"
   ]
  },
  {
   "cell_type": "code",
   "execution_count": 124,
   "id": "5d117113-1aeb-4bf3-a52b-e6b66b139a05",
   "metadata": {},
   "outputs": [
    {
     "data": {
      "text/html": [
       "<div>\n",
       "<style scoped>\n",
       "    .dataframe tbody tr th:only-of-type {\n",
       "        vertical-align: middle;\n",
       "    }\n",
       "\n",
       "    .dataframe tbody tr th {\n",
       "        vertical-align: top;\n",
       "    }\n",
       "\n",
       "    .dataframe thead th {\n",
       "        text-align: right;\n",
       "    }\n",
       "</style>\n",
       "<table border=\"1\" class=\"dataframe\">\n",
       "  <thead>\n",
       "    <tr style=\"text-align: right;\">\n",
       "      <th></th>\n",
       "      <th>S.no</th>\n",
       "      <th>Name</th>\n",
       "      <th>rating</th>\n",
       "    </tr>\n",
       "  </thead>\n",
       "  <tbody>\n",
       "    <tr>\n",
       "      <th>0</th>\n",
       "      <td>1</td>\n",
       "      <td>DDLJ</td>\n",
       "      <td>5 star</td>\n",
       "    </tr>\n",
       "    <tr>\n",
       "      <th>1</th>\n",
       "      <td>2</td>\n",
       "      <td>War</td>\n",
       "      <td>4 star</td>\n",
       "    </tr>\n",
       "    <tr>\n",
       "      <th>2</th>\n",
       "      <td>3</td>\n",
       "      <td>Pathan</td>\n",
       "      <td>3 star</td>\n",
       "    </tr>\n",
       "  </tbody>\n",
       "</table>\n",
       "</div>"
      ],
      "text/plain": [
       "   S.no     Name  rating\n",
       "0      1    DDLJ  5 star\n",
       "1      2     War  4 star\n",
       "2      3  Pathan  3 star"
      ]
     },
     "execution_count": 124,
     "metadata": {},
     "output_type": "execute_result"
    }
   ],
   "source": [
    "data1.head(3)"
   ]
  },
  {
   "cell_type": "code",
   "execution_count": 125,
   "id": "6d3a4cb3-b0a6-48ee-ae41-9aa9161a5a51",
   "metadata": {},
   "outputs": [
    {
     "data": {
      "text/html": [
       "<div>\n",
       "<style scoped>\n",
       "    .dataframe tbody tr th:only-of-type {\n",
       "        vertical-align: middle;\n",
       "    }\n",
       "\n",
       "    .dataframe tbody tr th {\n",
       "        vertical-align: top;\n",
       "    }\n",
       "\n",
       "    .dataframe thead th {\n",
       "        text-align: right;\n",
       "    }\n",
       "</style>\n",
       "<table border=\"1\" class=\"dataframe\">\n",
       "  <thead>\n",
       "    <tr style=\"text-align: right;\">\n",
       "      <th></th>\n",
       "      <th>S.no</th>\n",
       "      <th>Name</th>\n",
       "      <th>rating</th>\n",
       "    </tr>\n",
       "  </thead>\n",
       "  <tbody>\n",
       "    <tr>\n",
       "      <th>0</th>\n",
       "      <td>1</td>\n",
       "      <td>DDLJ</td>\n",
       "      <td>5 star</td>\n",
       "    </tr>\n",
       "    <tr>\n",
       "      <th>1</th>\n",
       "      <td>2</td>\n",
       "      <td>War</td>\n",
       "      <td>4 star</td>\n",
       "    </tr>\n",
       "    <tr>\n",
       "      <th>2</th>\n",
       "      <td>3</td>\n",
       "      <td>Pathan</td>\n",
       "      <td>3 star</td>\n",
       "    </tr>\n",
       "    <tr>\n",
       "      <th>3</th>\n",
       "      <td>4</td>\n",
       "      <td>Home Alone</td>\n",
       "      <td>3 star</td>\n",
       "    </tr>\n",
       "    <tr>\n",
       "      <th>4</th>\n",
       "      <td>5</td>\n",
       "      <td>Avengers</td>\n",
       "      <td>5 star</td>\n",
       "    </tr>\n",
       "    <tr>\n",
       "      <th>5</th>\n",
       "      <td>6</td>\n",
       "      <td>Spider Man</td>\n",
       "      <td>4 star</td>\n",
       "    </tr>\n",
       "    <tr>\n",
       "      <th>6</th>\n",
       "      <td>7</td>\n",
       "      <td>Tiger</td>\n",
       "      <td>3 star</td>\n",
       "    </tr>\n",
       "  </tbody>\n",
       "</table>\n",
       "</div>"
      ],
      "text/plain": [
       "   S.no         Name  rating\n",
       "0      1        DDLJ  5 star\n",
       "1      2         War  4 star\n",
       "2      3      Pathan  3 star\n",
       "3      4  Home Alone  3 star\n",
       "4      5   Avengers   5 star\n",
       "5      6  Spider Man  4 star\n",
       "6      7       Tiger  3 star"
      ]
     },
     "execution_count": 125,
     "metadata": {},
     "output_type": "execute_result"
    }
   ],
   "source": [
    "data1.head(7)"
   ]
  },
  {
   "cell_type": "code",
   "execution_count": 126,
   "id": "ddf3b21d-190d-493d-83c1-6d6ad974a6eb",
   "metadata": {},
   "outputs": [
    {
     "data": {
      "text/plain": [
       "pandas.core.series.Series"
      ]
     },
     "execution_count": 126,
     "metadata": {},
     "output_type": "execute_result"
    }
   ],
   "source": [
    "#type() method returns class type of the argument(object) passed as parameter in (Pandas)Python.\n",
    "type(data1['rating'])"
   ]
  },
  {
   "cell_type": "code",
   "execution_count": 127,
   "id": "80f72c7f-6475-4d90-8a0e-8ffc5c722137",
   "metadata": {},
   "outputs": [
    {
     "data": {
      "text/plain": [
       "S.no       int64\n",
       "Name      object\n",
       "rating    object\n",
       "dtype: object"
      ]
     },
     "execution_count": 127,
     "metadata": {},
     "output_type": "execute_result"
    }
   ],
   "source": [
    "#The 'dtypes' property returns data type of each column in the DataFrame.\n",
    "data1.dtypes"
   ]
  },
  {
   "cell_type": "code",
   "execution_count": 19,
   "id": "6c726284-2b4a-4053-9826-27bf06c5e338",
   "metadata": {},
   "outputs": [],
   "source": [
    "#The 'astype()' method returns a new DataFrame where the data types has been changed to the specified type.\n",
    "#the astype()method is used to change the data dype \n",
    "data1['rating']=data1['rating'].astype('category')\n",
    "#data.astype('category').dtypes"
   ]
  },
  {
   "cell_type": "code",
   "execution_count": 21,
   "id": "e121d272-ae4b-403a-bc5f-bfeb0cae7392",
   "metadata": {},
   "outputs": [
    {
     "data": {
      "text/plain": [
       "S.no         int64\n",
       "Name        object\n",
       "rating    category\n",
       "dtype: object"
      ]
     },
     "execution_count": 21,
     "metadata": {},
     "output_type": "execute_result"
    }
   ],
   "source": [
    "data1.dtypes"
   ]
  },
  {
   "cell_type": "code",
   "execution_count": 30,
   "id": "d33fb53b-faad-4f32-ac0e-87451b9bc02f",
   "metadata": {},
   "outputs": [],
   "source": [
    "#The cat.codes does not execute\n",
    "#data['rating']=data['rating'].cat.codes\n",
    "#data['Ratings_new']=data['Ratings'].cat.codes"
   ]
  },
  {
   "cell_type": "code",
   "execution_count": 7,
   "id": "3d2d5f36-023b-4cce-ad01-34ebc550bf8f",
   "metadata": {},
   "outputs": [],
   "source": [
    "#encoding = pd.get_dummies(data1,columns=['rating'])\n",
    "encoding = pd.get_dummies(data1['rating'])\n",
    "#print(encoding)"
   ]
  },
  {
   "cell_type": "code",
   "execution_count": 132,
   "id": "94bfd93e-f483-4f39-b73f-a58bf5bff1f8",
   "metadata": {},
   "outputs": [
    {
     "data": {
      "text/html": [
       "<div>\n",
       "<style scoped>\n",
       "    .dataframe tbody tr th:only-of-type {\n",
       "        vertical-align: middle;\n",
       "    }\n",
       "\n",
       "    .dataframe tbody tr th {\n",
       "        vertical-align: top;\n",
       "    }\n",
       "\n",
       "    .dataframe thead th {\n",
       "        text-align: right;\n",
       "    }\n",
       "</style>\n",
       "<table border=\"1\" class=\"dataframe\">\n",
       "  <thead>\n",
       "    <tr style=\"text-align: right;\">\n",
       "      <th></th>\n",
       "      <th>S.no</th>\n",
       "      <th>Name</th>\n",
       "      <th>rating_category</th>\n",
       "    </tr>\n",
       "  </thead>\n",
       "  <tbody>\n",
       "    <tr>\n",
       "      <th>0</th>\n",
       "      <td>1</td>\n",
       "      <td>DDLJ</td>\n",
       "      <td>1</td>\n",
       "    </tr>\n",
       "    <tr>\n",
       "      <th>1</th>\n",
       "      <td>2</td>\n",
       "      <td>War</td>\n",
       "      <td>1</td>\n",
       "    </tr>\n",
       "    <tr>\n",
       "      <th>2</th>\n",
       "      <td>3</td>\n",
       "      <td>Pathan</td>\n",
       "      <td>1</td>\n",
       "    </tr>\n",
       "    <tr>\n",
       "      <th>3</th>\n",
       "      <td>4</td>\n",
       "      <td>Home Alone</td>\n",
       "      <td>1</td>\n",
       "    </tr>\n",
       "    <tr>\n",
       "      <th>4</th>\n",
       "      <td>5</td>\n",
       "      <td>Avengers</td>\n",
       "      <td>1</td>\n",
       "    </tr>\n",
       "    <tr>\n",
       "      <th>5</th>\n",
       "      <td>6</td>\n",
       "      <td>Spider Man</td>\n",
       "      <td>1</td>\n",
       "    </tr>\n",
       "    <tr>\n",
       "      <th>6</th>\n",
       "      <td>7</td>\n",
       "      <td>Tiger</td>\n",
       "      <td>1</td>\n",
       "    </tr>\n",
       "    <tr>\n",
       "      <th>7</th>\n",
       "      <td>8</td>\n",
       "      <td>ABCD 3</td>\n",
       "      <td>1</td>\n",
       "    </tr>\n",
       "  </tbody>\n",
       "</table>\n",
       "</div>"
      ],
      "text/plain": [
       "   S.no         Name  rating_category\n",
       "0      1        DDLJ                1\n",
       "1      2         War                1\n",
       "2      3      Pathan                1\n",
       "3      4  Home Alone                1\n",
       "4      5   Avengers                 1\n",
       "5      6  Spider Man                1\n",
       "6      7       Tiger                1\n",
       "7      8      ABCD 3                1"
      ]
     },
     "execution_count": 132,
     "metadata": {},
     "output_type": "execute_result"
    }
   ],
   "source": [
    "encoding"
   ]
  },
  {
   "cell_type": "code",
   "execution_count": 28,
   "id": "4cf2b989-5737-48c1-b9f4-d73b378b8134",
   "metadata": {},
   "outputs": [],
   "source": [
    "''' The get_dummies function is used to convert categorical variables into dummy(0,1) or \n",
    "    indicator variables(0,1).A dummy or indicator variable can have a value of 0 or 1.\n",
    "'''\n",
    "encoding = pd.get_dummies(data1['Name']).head()"
   ]
  },
  {
   "cell_type": "code",
   "execution_count": 29,
   "id": "81161d03-6095-4a4d-b1f3-e8195126c69a",
   "metadata": {},
   "outputs": [
    {
     "data": {
      "text/html": [
       "<div>\n",
       "<style scoped>\n",
       "    .dataframe tbody tr th:only-of-type {\n",
       "        vertical-align: middle;\n",
       "    }\n",
       "\n",
       "    .dataframe tbody tr th {\n",
       "        vertical-align: top;\n",
       "    }\n",
       "\n",
       "    .dataframe thead th {\n",
       "        text-align: right;\n",
       "    }\n",
       "</style>\n",
       "<table border=\"1\" class=\"dataframe\">\n",
       "  <thead>\n",
       "    <tr style=\"text-align: right;\">\n",
       "      <th></th>\n",
       "      <th>ABCD 3</th>\n",
       "      <th>Avengers</th>\n",
       "      <th>DDLJ</th>\n",
       "      <th>Home Alone</th>\n",
       "      <th>Pathan</th>\n",
       "      <th>Spider Man</th>\n",
       "      <th>Tiger</th>\n",
       "      <th>War</th>\n",
       "    </tr>\n",
       "  </thead>\n",
       "  <tbody>\n",
       "    <tr>\n",
       "      <th>0</th>\n",
       "      <td>0</td>\n",
       "      <td>0</td>\n",
       "      <td>1</td>\n",
       "      <td>0</td>\n",
       "      <td>0</td>\n",
       "      <td>0</td>\n",
       "      <td>0</td>\n",
       "      <td>0</td>\n",
       "    </tr>\n",
       "    <tr>\n",
       "      <th>1</th>\n",
       "      <td>0</td>\n",
       "      <td>0</td>\n",
       "      <td>0</td>\n",
       "      <td>0</td>\n",
       "      <td>0</td>\n",
       "      <td>0</td>\n",
       "      <td>0</td>\n",
       "      <td>1</td>\n",
       "    </tr>\n",
       "    <tr>\n",
       "      <th>2</th>\n",
       "      <td>0</td>\n",
       "      <td>0</td>\n",
       "      <td>0</td>\n",
       "      <td>0</td>\n",
       "      <td>1</td>\n",
       "      <td>0</td>\n",
       "      <td>0</td>\n",
       "      <td>0</td>\n",
       "    </tr>\n",
       "    <tr>\n",
       "      <th>3</th>\n",
       "      <td>0</td>\n",
       "      <td>0</td>\n",
       "      <td>0</td>\n",
       "      <td>1</td>\n",
       "      <td>0</td>\n",
       "      <td>0</td>\n",
       "      <td>0</td>\n",
       "      <td>0</td>\n",
       "    </tr>\n",
       "    <tr>\n",
       "      <th>4</th>\n",
       "      <td>0</td>\n",
       "      <td>1</td>\n",
       "      <td>0</td>\n",
       "      <td>0</td>\n",
       "      <td>0</td>\n",
       "      <td>0</td>\n",
       "      <td>0</td>\n",
       "      <td>0</td>\n",
       "    </tr>\n",
       "  </tbody>\n",
       "</table>\n",
       "</div>"
      ],
      "text/plain": [
       "   ABCD 3  Avengers   DDLJ  Home Alone  Pathan  Spider Man  Tiger  War\n",
       "0       0          0     1           0       0           0      0    0\n",
       "1       0          0     0           0       0           0      0    1\n",
       "2       0          0     0           0       1           0      0    0\n",
       "3       0          0     0           1       0           0      0    0\n",
       "4       0          1     0           0       0           0      0    0"
      ]
     },
     "execution_count": 29,
     "metadata": {},
     "output_type": "execute_result"
    }
   ],
   "source": [
    "encoding"
   ]
  },
  {
   "cell_type": "code",
   "execution_count": 31,
   "id": "8c280910-4781-47c0-af35-b2f562b11942",
   "metadata": {},
   "outputs": [],
   "source": [
    "#Dictionary\n",
    "encode={'Ratings':{\"1 star\":1,\n",
    "    \"2 star\":2,\n",
    "    \"3 star\":3,\n",
    "    \"4 star\":4,\n",
    "    \"5 star\":5}\n",
    "    \n",
    "}\n",
    "data = pd.DataFrame(encode)"
   ]
  },
  {
   "cell_type": "code",
   "execution_count": 32,
   "id": "76ca0b07-b0eb-4758-b21d-ce164a25b2f2",
   "metadata": {},
   "outputs": [],
   "source": [
    "#Agin replace the datasets\n",
    "encoded_df=data.replace(encode)"
   ]
  },
  {
   "cell_type": "code",
   "execution_count": 33,
   "id": "aa25bad0-a6b2-4e12-8d1c-722e61aae356",
   "metadata": {},
   "outputs": [
    {
     "data": {
      "text/html": [
       "<div>\n",
       "<style scoped>\n",
       "    .dataframe tbody tr th:only-of-type {\n",
       "        vertical-align: middle;\n",
       "    }\n",
       "\n",
       "    .dataframe tbody tr th {\n",
       "        vertical-align: top;\n",
       "    }\n",
       "\n",
       "    .dataframe thead th {\n",
       "        text-align: right;\n",
       "    }\n",
       "</style>\n",
       "<table border=\"1\" class=\"dataframe\">\n",
       "  <thead>\n",
       "    <tr style=\"text-align: right;\">\n",
       "      <th></th>\n",
       "      <th>Ratings</th>\n",
       "    </tr>\n",
       "  </thead>\n",
       "  <tbody>\n",
       "    <tr>\n",
       "      <th>1 star</th>\n",
       "      <td>1</td>\n",
       "    </tr>\n",
       "    <tr>\n",
       "      <th>2 star</th>\n",
       "      <td>2</td>\n",
       "    </tr>\n",
       "    <tr>\n",
       "      <th>3 star</th>\n",
       "      <td>3</td>\n",
       "    </tr>\n",
       "    <tr>\n",
       "      <th>4 star</th>\n",
       "      <td>4</td>\n",
       "    </tr>\n",
       "    <tr>\n",
       "      <th>5 star</th>\n",
       "      <td>5</td>\n",
       "    </tr>\n",
       "  </tbody>\n",
       "</table>\n",
       "</div>"
      ],
      "text/plain": [
       "        Ratings\n",
       "1 star        1\n",
       "2 star        2\n",
       "3 star        3\n",
       "4 star        4\n",
       "5 star        5"
      ]
     },
     "execution_count": 33,
     "metadata": {},
     "output_type": "execute_result"
    }
   ],
   "source": [
    "encoded_df"
   ]
  },
  {
   "cell_type": "code",
   "execution_count": 138,
   "id": "d21c26dc-4dfd-407a-ab3f-5725e833a5e6",
   "metadata": {},
   "outputs": [
    {
     "name": "stdout",
     "output_type": "stream",
     "text": [
      "   Array_1  Array_2\n",
      "0     60.0     65.1\n",
      "1     70.0     60.0\n"
     ]
    }
   ],
   "source": [
    "#Example of the replace() method\n",
    "df = {\n",
    "\"Array_1\": [49.50, 70],\n",
    "\"Array_2\": [65.1, 49.50]\n",
    "}\n",
    "\n",
    "df = pd.DataFrame(df)\n",
    "\n",
    "print(df.replace(49.50, 60))"
   ]
  },
  {
   "cell_type": "code",
   "execution_count": 143,
   "id": "817a8706-5022-4f58-af04-995f2b926bc0",
   "metadata": {},
   "outputs": [],
   "source": [
    "from sklearn.preprocessing import OrdinalEncoder\n",
    "#Create object of encoder\n",
    "obj=OrdinalEncoder()\n",
    "#encode['rate']=obj.fit_transfrom(encode[['Ratings']])\n",
    "data['encode']=obj.fit_transform(data[['Ratings']])\n",
    "#data['encode']=obj.fit_transform(data[['Ratings']])\n"
   ]
  },
  {
   "cell_type": "code",
   "execution_count": 144,
   "id": "54e36ae7-f1a2-446b-ba65-879eeaad2885",
   "metadata": {},
   "outputs": [
    {
     "data": {
      "text/html": [
       "<div>\n",
       "<style scoped>\n",
       "    .dataframe tbody tr th:only-of-type {\n",
       "        vertical-align: middle;\n",
       "    }\n",
       "\n",
       "    .dataframe tbody tr th {\n",
       "        vertical-align: top;\n",
       "    }\n",
       "\n",
       "    .dataframe thead th {\n",
       "        text-align: right;\n",
       "    }\n",
       "</style>\n",
       "<table border=\"1\" class=\"dataframe\">\n",
       "  <thead>\n",
       "    <tr style=\"text-align: right;\">\n",
       "      <th></th>\n",
       "      <th>Ratings</th>\n",
       "      <th>encode</th>\n",
       "      <th>encoder</th>\n",
       "    </tr>\n",
       "  </thead>\n",
       "  <tbody>\n",
       "    <tr>\n",
       "      <th>1 star</th>\n",
       "      <td>1</td>\n",
       "      <td>0.0</td>\n",
       "      <td>0.0</td>\n",
       "    </tr>\n",
       "    <tr>\n",
       "      <th>2 star</th>\n",
       "      <td>2</td>\n",
       "      <td>1.0</td>\n",
       "      <td>1.0</td>\n",
       "    </tr>\n",
       "    <tr>\n",
       "      <th>3 star</th>\n",
       "      <td>3</td>\n",
       "      <td>2.0</td>\n",
       "      <td>2.0</td>\n",
       "    </tr>\n",
       "    <tr>\n",
       "      <th>4 star</th>\n",
       "      <td>4</td>\n",
       "      <td>3.0</td>\n",
       "      <td>3.0</td>\n",
       "    </tr>\n",
       "    <tr>\n",
       "      <th>5 star</th>\n",
       "      <td>5</td>\n",
       "      <td>4.0</td>\n",
       "      <td>4.0</td>\n",
       "    </tr>\n",
       "  </tbody>\n",
       "</table>\n",
       "</div>"
      ],
      "text/plain": [
       "        Ratings  encode  encoder\n",
       "1 star        1     0.0      0.0\n",
       "2 star        2     1.0      1.0\n",
       "3 star        3     2.0      2.0\n",
       "4 star        4     3.0      3.0\n",
       "5 star        5     4.0      4.0"
      ]
     },
     "execution_count": 144,
     "metadata": {},
     "output_type": "execute_result"
    }
   ],
   "source": [
    "data"
   ]
  },
  {
   "cell_type": "code",
   "execution_count": null,
   "id": "3d6d4dc3-5606-4057-8703-d99005559275",
   "metadata": {},
   "outputs": [],
   "source": [
    "'''\n",
    "Perform the variable encoding on the following type of data.\n",
    "    b. Ordina  \n",
    "    \n",
    "1.What is ordinal encoding?\n",
    "    Ordinal encoding is a technique to transform categorical features into a numerical format. \n",
    "\n",
    "2.Defination of Ordinal Encoding:-\n",
    "    In ordinal encoding, each unique category value is assigned an integer value.\n",
    "    For example, “red” is 1, “green” is 2, and “blue” is 3.\n",
    "'''"
   ]
  },
  {
   "cell_type": "code",
   "execution_count": 34,
   "id": "cbbec2c9-eded-4106-8ccb-3e67a525dbbb",
   "metadata": {},
   "outputs": [
    {
     "name": "stdout",
     "output_type": "stream",
     "text": [
      "[['red'], ['green'], ['blue']]\n",
      "[[2.]\n",
      " [1.]\n",
      " [0.]]\n"
     ]
    }
   ],
   "source": [
    "from sklearn.preprocessing import OrdinalEncoder\n",
    "\n",
    "data =([['red'], ['green'], ['blue']])\n",
    "print(data)\n",
    "\n",
    "obj=OrdinalEncoder()\n",
    "result=obj.fit_transform(data)\n",
    "print(result)"
   ]
  },
  {
   "cell_type": "code",
   "execution_count": 35,
   "id": "f246cbe1-8620-49a5-81c8-9a957d8b200c",
   "metadata": {},
   "outputs": [
    {
     "name": "stdout",
     "output_type": "stream",
     "text": [
      "        Ratings\n",
      "1 star        1\n",
      "2 star        2\n",
      "3 star        3\n",
      "4 star        4\n",
      "5 star        5\n"
     ]
    }
   ],
   "source": [
    "encode={'Ratings':{\"1 star\":1,\n",
    "    \"2 star\":2,\n",
    "    \"3 star\":3,\n",
    "    \"4 star\":4,\n",
    "    \"5 star\":5}\n",
    "    \n",
    "}\n",
    "data = pd.DataFrame(encode)\n",
    "print(data)"
   ]
  },
  {
   "cell_type": "code",
   "execution_count": 37,
   "id": "106792e8-719d-46c3-934a-5030e5743832",
   "metadata": {},
   "outputs": [
    {
     "name": "stdout",
     "output_type": "stream",
     "text": [
      "[[0.]\n",
      " [1.]\n",
      " [2.]\n",
      " [3.]\n",
      " [4.]]\n"
     ]
    }
   ],
   "source": [
    "obj = OrdinalEncoder()\n",
    "result = obj.fit_transform(data)\n",
    "print(result)"
   ]
  },
  {
   "cell_type": "code",
   "execution_count": null,
   "id": "ce5869b3-2c17-4f3b-b6bc-3661e3131efe",
   "metadata": {},
   "outputs": [],
   "source": []
  },
  {
   "cell_type": "code",
   "execution_count": 39,
   "id": "49a47f3a-9c4c-450e-afb4-cd885693688b",
   "metadata": {},
   "outputs": [],
   "source": [
    "from sklearn.preprocessing import OrdinalEncoder\n",
    "#Create object of encoder\n",
    "obj=OrdinalEncoder()\n",
    "#encode['rate']=obj.fit_transfrom(encode[['Ratings']])\n",
    "data['encode']=obj.fit_transform(data[['Ratings']])\n",
    "#data['encode']=obj.fit_transform(data[['Ratings']])"
   ]
  },
  {
   "cell_type": "code",
   "execution_count": 40,
   "id": "ca55e3cf-a862-41d3-b4fc-bb61673859a3",
   "metadata": {},
   "outputs": [
    {
     "data": {
      "text/html": [
       "<div>\n",
       "<style scoped>\n",
       "    .dataframe tbody tr th:only-of-type {\n",
       "        vertical-align: middle;\n",
       "    }\n",
       "\n",
       "    .dataframe tbody tr th {\n",
       "        vertical-align: top;\n",
       "    }\n",
       "\n",
       "    .dataframe thead th {\n",
       "        text-align: right;\n",
       "    }\n",
       "</style>\n",
       "<table border=\"1\" class=\"dataframe\">\n",
       "  <thead>\n",
       "    <tr style=\"text-align: right;\">\n",
       "      <th></th>\n",
       "      <th>Ratings</th>\n",
       "      <th>encode</th>\n",
       "    </tr>\n",
       "  </thead>\n",
       "  <tbody>\n",
       "    <tr>\n",
       "      <th>1 star</th>\n",
       "      <td>1</td>\n",
       "      <td>0.0</td>\n",
       "    </tr>\n",
       "    <tr>\n",
       "      <th>2 star</th>\n",
       "      <td>2</td>\n",
       "      <td>1.0</td>\n",
       "    </tr>\n",
       "    <tr>\n",
       "      <th>3 star</th>\n",
       "      <td>3</td>\n",
       "      <td>2.0</td>\n",
       "    </tr>\n",
       "    <tr>\n",
       "      <th>4 star</th>\n",
       "      <td>4</td>\n",
       "      <td>3.0</td>\n",
       "    </tr>\n",
       "    <tr>\n",
       "      <th>5 star</th>\n",
       "      <td>5</td>\n",
       "      <td>4.0</td>\n",
       "    </tr>\n",
       "  </tbody>\n",
       "</table>\n",
       "</div>"
      ],
      "text/plain": [
       "        Ratings  encode\n",
       "1 star        1     0.0\n",
       "2 star        2     1.0\n",
       "3 star        3     2.0\n",
       "4 star        4     3.0\n",
       "5 star        5     4.0"
      ]
     },
     "execution_count": 40,
     "metadata": {},
     "output_type": "execute_result"
    }
   ],
   "source": [
    "data"
   ]
  }
 ],
 "metadata": {
  "kernelspec": {
   "display_name": "Python 3 (ipykernel)",
   "language": "python",
   "name": "python3"
  },
  "language_info": {
   "codemirror_mode": {
    "name": "ipython",
    "version": 3
   },
   "file_extension": ".py",
   "mimetype": "text/x-python",
   "name": "python",
   "nbconvert_exporter": "python",
   "pygments_lexer": "ipython3",
   "version": "3.9.13"
  }
 },
 "nbformat": 4,
 "nbformat_minor": 5
}
