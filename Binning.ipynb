{
 "cells": [
  {
   "cell_type": "code",
   "execution_count": 2,
   "id": "1638a3b6-8976-45c3-ae52-87cf0b2109df",
   "metadata": {},
   "outputs": [],
   "source": [
    "import pandas as pd\n",
    "import numpy as np"
   ]
  },
  {
   "cell_type": "code",
   "execution_count": 1,
   "id": "c16ec584-b34c-4527-94a5-d32f4e60d749",
   "metadata": {},
   "outputs": [
    {
     "name": "stdout",
     "output_type": "stream",
     "text": [
      "Minimum Age= 1\n",
      "Maximum Age= 80\n",
      "Bin Of Children= [10, 1]\n",
      "Bin Of teen= [15, 18]\n",
      "Bin Of adult= [20]\n",
      "Bin Of old= [80]\n"
     ]
    }
   ],
   "source": [
    "def binning(data):\n",
    "        maximum_value= max(data)\n",
    "        minimum_value=min(data)\n",
    "        print(\"Minimum Age=\",minimum_value)\n",
    "        print(\"Maximum Age=\",maximum_value)\n",
    "        #child, teen, adult, old\n",
    "        child=[]#empty bin/list\n",
    "        teen=[]\n",
    "        adult=[]\n",
    "        old=[]\n",
    "        #for i in range(0,len(data)):\n",
    "        for i in data:\n",
    "            if i <=12:\n",
    "                child.append(i)#insert value in ur list\n",
    "            elif i >12 and i <20:\n",
    "                teen.append(i)\n",
    "            elif i >=20 and i <45:\n",
    "                adult.append(i)\n",
    "            elif i >45:\n",
    "                old.append(i)\n",
    "        print(\"Bin Of Children=\",child)\n",
    "        print(\"Bin Of teen=\",teen)\n",
    "        print(\"Bin Of adult=\",adult)\n",
    "        print(\"Bin Of old=\",old)\n",
    "\n",
    "age=[10,1,20,15,18,80]\n",
    "binning(age)"
   ]
  }
 ],
 "metadata": {
  "kernelspec": {
   "display_name": "Python 3 (ipykernel)",
   "language": "python",
   "name": "python3"
  },
  "language_info": {
   "codemirror_mode": {
    "name": "ipython",
    "version": 3
   },
   "file_extension": ".py",
   "mimetype": "text/x-python",
   "name": "python",
   "nbconvert_exporter": "python",
   "pygments_lexer": "ipython3",
   "version": "3.9.13"
  }
 },
 "nbformat": 4,
 "nbformat_minor": 5
}
