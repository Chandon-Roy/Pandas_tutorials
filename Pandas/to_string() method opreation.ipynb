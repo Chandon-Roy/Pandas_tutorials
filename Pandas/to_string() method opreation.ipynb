{
 "cells": [
  {
   "cell_type": "code",
   "execution_count": 1,
   "id": "eec1464c-c928-4440-a6e0-b940b3ff59c6",
   "metadata": {},
   "outputs": [],
   "source": [
    "import pandas as pd\n",
    "import numpy as np"
   ]
  },
  {
   "cell_type": "code",
   "execution_count": 3,
   "id": "336f828a-4eca-4816-ac71-79e5f21930a7",
   "metadata": {},
   "outputs": [],
   "source": [
    "#[] = Square Brackets\n",
    "#{} = Curly Brackets\n",
    "my_dict={\n",
    "    'NAME':['Ravi','Raju','Alex'],\n",
    "    'ID':[1,2,3],'MATH':[30,40,50],\n",
    "    'ENGLISH':[20,30,40]\n",
    "}\n",
    "df=pd.DataFrame(data=my_dict)"
   ]
  },
  {
   "cell_type": "code",
   "execution_count": 4,
   "id": "5bc36eab-5bea-416f-9550-9956fa643829",
   "metadata": {},
   "outputs": [
    {
     "data": {
      "text/html": [
       "<div>\n",
       "<style scoped>\n",
       "    .dataframe tbody tr th:only-of-type {\n",
       "        vertical-align: middle;\n",
       "    }\n",
       "\n",
       "    .dataframe tbody tr th {\n",
       "        vertical-align: top;\n",
       "    }\n",
       "\n",
       "    .dataframe thead th {\n",
       "        text-align: right;\n",
       "    }\n",
       "</style>\n",
       "<table border=\"1\" class=\"dataframe\">\n",
       "  <thead>\n",
       "    <tr style=\"text-align: right;\">\n",
       "      <th></th>\n",
       "      <th>NAME</th>\n",
       "      <th>ID</th>\n",
       "      <th>MATH</th>\n",
       "      <th>ENGLISH</th>\n",
       "    </tr>\n",
       "  </thead>\n",
       "  <tbody>\n",
       "    <tr>\n",
       "      <th>0</th>\n",
       "      <td>Ravi</td>\n",
       "      <td>1</td>\n",
       "      <td>30</td>\n",
       "      <td>20</td>\n",
       "    </tr>\n",
       "    <tr>\n",
       "      <th>1</th>\n",
       "      <td>Raju</td>\n",
       "      <td>2</td>\n",
       "      <td>40</td>\n",
       "      <td>30</td>\n",
       "    </tr>\n",
       "    <tr>\n",
       "      <th>2</th>\n",
       "      <td>Alex</td>\n",
       "      <td>3</td>\n",
       "      <td>50</td>\n",
       "      <td>40</td>\n",
       "    </tr>\n",
       "  </tbody>\n",
       "</table>\n",
       "</div>"
      ],
      "text/plain": [
       "   NAME  ID  MATH  ENGLISH\n",
       "0  Ravi   1    30       20\n",
       "1  Raju   2    40       30\n",
       "2  Alex   3    50       40"
      ]
     },
     "execution_count": 4,
     "metadata": {},
     "output_type": "execute_result"
    }
   ],
   "source": [
    "df"
   ]
  },
  {
   "cell_type": "code",
   "execution_count": 5,
   "id": "98c3d718-8243-4ff1-bd5f-694af00b75b2",
   "metadata": {},
   "outputs": [
    {
     "data": {
      "text/plain": [
       "'   NAME  ID  MATH  ENGLISH\\n0  Ravi   1    30       20\\n1  Raju   2    40       30\\n2  Alex   3    50       40'"
      ]
     },
     "execution_count": 5,
     "metadata": {},
     "output_type": "execute_result"
    }
   ],
   "source": [
    "# In Python, \\n is a type of escape character that will create a new line when used. \n",
    "#\\n0 : '\\n' is create a new line and '0' is index number\n",
    "#(\\) = backslash \n",
    "df.to_string()"
   ]
  },
  {
   "cell_type": "code",
   "execution_count": 23,
   "id": "b4f51ed2-7e49-4760-85c0-2f9ea30d1774",
   "metadata": {},
   "outputs": [
    {
     "data": {
      "text/plain": [
       "'   NAME  ENGLISH\\n0  Ravi       20\\n1  Raju       30\\n2  Alex       40'"
      ]
     },
     "execution_count": 23,
     "metadata": {},
     "output_type": "execute_result"
    }
   ],
   "source": [
    "#By default all columns are taken, however we can specify which columns to only include.\n",
    "df.to_string(columns = ['NAME', 'ENGLISH'])"
   ]
  },
  {
   "cell_type": "code",
   "execution_count": 25,
   "id": "bb83da7c-f0ec-40d9-a42d-9eb0fa712f7c",
   "metadata": {},
   "outputs": [
    {
     "data": {
      "text/plain": [
       "'  NAME1 ID2 MATH3 ENGLISH4\\n0  Ravi   1    30       20\\n1  Raju   2    40       30\\n2  Alex   3    50       40'"
      ]
     },
     "execution_count": 25,
     "metadata": {},
     "output_type": "execute_result"
    }
   ],
   "source": [
    "#We can hide the header by setting it to False. We can also give aliases to use as column names.\n",
    "df.to_string(header=['NAME1','ID2','MATH3','ENGLISH4'])"
   ]
  },
  {
   "cell_type": "code",
   "execution_count": 26,
   "id": "38f006a4-bb88-4797-845a-9e0941897f4a",
   "metadata": {},
   "outputs": [
    {
     "data": {
      "text/plain": [
       "'NAME  ID  MATH  ENGLISH\\nRavi   1    30       20\\nRaju   2    40       30\\nAlex   3    50       40'"
      ]
     },
     "execution_count": 26,
     "metadata": {},
     "output_type": "execute_result"
    }
   ],
   "source": [
    "#We can hide the index column by setting it to False ( default is True )\n",
    "df.to_string(index = False)"
   ]
  },
  {
   "cell_type": "code",
   "execution_count": 27,
   "id": "07864712-f475-47c4-92ef-63e38642c86d",
   "metadata": {},
   "outputs": [
    {
     "data": {
      "text/plain": [
       "'                 NAME         ID       MATH    ENGLISH\\n0                Ravi          1         30         20\\n1                Raju          2         40         30\\n2                Alex          3         50         40'"
      ]
     },
     "execution_count": 27,
     "metadata": {},
     "output_type": "execute_result"
    }
   ],
   "source": [
    "#Minimum width of each column.\n",
    "df.to_string(col_space=10)"
   ]
  },
  {
   "cell_type": "code",
   "execution_count": 33,
   "id": "5b83998c-e8dd-439c-ab70-5521dc88c71c",
   "metadata": {},
   "outputs": [
    {
     "data": {
      "text/plain": [
       "'   NAME  ID  MATH  ENGLISH\\n0  Ravi   1    30       20\\n1  Raju   2    40       30\\n2  Alex   3    50       40'"
      ]
     },
     "execution_count": 33,
     "metadata": {},
     "output_type": "execute_result"
    }
   ],
   "source": [
    "#justify :left, right , center ...\n",
    "df.to_string(justify = 'right')"
   ]
  },
  {
   "cell_type": "code",
   "execution_count": 34,
   "id": "6993ee7d-8f36-48a6-96ae-a4cf8b735034",
   "metadata": {},
   "outputs": [
    {
     "data": {
      "text/plain": [
       "'  NAME   ID  MATH  ENGLISH\\n0  Ravi  1   30    20     \\n1  Raju  2   40    30     \\n2  Alex  3   50    40     '"
      ]
     },
     "execution_count": 34,
     "metadata": {},
     "output_type": "execute_result"
    }
   ],
   "source": [
    "#justify :left, right , center ...\n",
    "df.to_string(justify = 'left')"
   ]
  },
  {
   "cell_type": "code",
   "execution_count": 35,
   "id": "aff5fd50-7cc6-4bcf-8911-1251052ea122",
   "metadata": {},
   "outputs": [
    {
     "data": {
      "text/plain": [
       "'   NAME  ID  MATH  ENGLISH\\n0  Ravi   1   30     20   \\n1  Raju   2   40     30   \\n2  Alex   3   50     40   '"
      ]
     },
     "execution_count": 35,
     "metadata": {},
     "output_type": "execute_result"
    }
   ],
   "source": [
    "#justify :left, right , center ...\n",
    "df.to_string(justify = 'center')"
   ]
  },
  {
   "cell_type": "code",
   "execution_count": 41,
   "id": "19bb9701-3276-414e-b4b4-af57f98608db",
   "metadata": {},
   "outputs": [
    {
     "data": {
      "text/plain": [
       "\"\\n    my_dict={\\n        'NAME':['Ravi','Raju','Alex'],\\n        'ID':[1,2,3],'MATH':[30,40,50],\\n        'ENGLISH':[20,30,40]\\n    }\\n    df=pd.DataFrame(data=my_dict)\\n    str1=df.to_string() # collect the string in a variable \\n    fob=open('D:\\\\my_data\\\\my_file.txt','w') # file object\\n    fob.write(str1)    # write to file. \\n    fob.close()\\n\""
      ]
     },
     "execution_count": 41,
     "metadata": {},
     "output_type": "execute_result"
    }
   ],
   "source": [
    "#We can store the string in a file .\n",
    "'''\n",
    "    my_dict={\n",
    "        'NAME':['Ravi','Raju','Alex'],\n",
    "        'ID':[1,2,3],'MATH':[30,40,50],\n",
    "        'ENGLISH':[20,30,40]\n",
    "    }\n",
    "    df=pd.DataFrame(data=my_dict)\n",
    "    str1=df.to_string() # collect the string in a variable \n",
    "    fob=open('D:\\\\my_data\\\\my_file.txt','w') # file object\n",
    "    fob.write(str1)    # write to file. \n",
    "    fob.close()\n",
    "'''"
   ]
  },
  {
   "cell_type": "code",
   "execution_count": 40,
   "id": "225da9dd-38fe-414e-966f-423645a511e1",
   "metadata": {},
   "outputs": [
    {
     "data": {
      "text/plain": [
       "'\\n    df=pd.read_csv(\"D:\\\\my_data\\\\student.csv\") # change the path\\n    df.to_string()\\n'"
      ]
     },
     "execution_count": 40,
     "metadata": {},
     "output_type": "execute_result"
    }
   ],
   "source": [
    "#From Excel file to string output\n",
    "#We used read_excel() to read our sample student.xlsx file.0\n",
    "'''\n",
    "    df=pd.read_csv(\"D:\\\\my_data\\\\student.csv\") # change the path\n",
    "    df.to_string()\n",
    "'''  "
   ]
  },
  {
   "cell_type": "code",
   "execution_count": 39,
   "id": "3fedfcf5-9bce-4f1f-b5c4-1230d0cf285e",
   "metadata": {},
   "outputs": [
    {
     "data": {
      "text/plain": [
       "'\\n    df=pd.read_csv(\"D:\\\\my_data\\\\student.csv\") # change the path\\n    df.to_string()\\n'"
      ]
     },
     "execution_count": 39,
     "metadata": {},
     "output_type": "execute_result"
    }
   ],
   "source": [
    "#We can read one csv file by using read_csv()\n",
    "'''\n",
    "    df=pd.read_csv(\"D:\\\\my_data\\\\student.csv\") # change the path\n",
    "    df.to_string()\n",
    "'''"
   ]
  },
  {
   "cell_type": "code",
   "execution_count": null,
   "id": "a6960290-9fa6-4302-8cd5-d8e716f83462",
   "metadata": {},
   "outputs": [],
   "source": [
    "#Referecne :https://www.plus2net.com/python/pandas-to_string.php"
   ]
  }
 ],
 "metadata": {
  "kernelspec": {
   "display_name": "Python 3 (ipykernel)",
   "language": "python",
   "name": "python3"
  },
  "language_info": {
   "codemirror_mode": {
    "name": "ipython",
    "version": 3
   },
   "file_extension": ".py",
   "mimetype": "text/x-python",
   "name": "python",
   "nbconvert_exporter": "python",
   "pygments_lexer": "ipython3",
   "version": "3.9.13"
  }
 },
 "nbformat": 4,
 "nbformat_minor": 5
}
