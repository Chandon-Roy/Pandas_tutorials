{
 "cells": [
  {
   "cell_type": "markdown",
   "id": "c06f767a-a528-407d-a376-0dcce1e16481",
   "metadata": {},
   "source": [
    "<h4>Encoding Categorical variables:-</h4>\n",
    "<p>It is a way of converting categorical data into numerical representations \n",
    "that can be used in a machine learning model.</p>"
   ]
  },
  {
   "cell_type": "code",
   "execution_count": 18,
   "id": "edaa8e45-192a-493f-9c2c-3a0327092cea",
   "metadata": {},
   "outputs": [],
   "source": [
    "import pandas as pd "
   ]
  },
  {
   "cell_type": "code",
   "execution_count": 23,
   "id": "027728f6-7d3a-418a-8a2a-c963876dd01a",
   "metadata": {},
   "outputs": [
    {
     "name": "stdout",
     "output_type": "stream",
     "text": [
      "The original data\n",
      "    col1\n",
      "0    Sun\n",
      "1    Sun\n",
      "2   Moon\n",
      "3  Earth\n",
      "4   Moon\n",
      "5  Venus\n",
      "******************************\n",
      "The transform data using get_dummies\n",
      "   Planet_Earth  Planet_Moon  Planet_Sun  Planet_Venus\n",
      "0             0            0           1             0\n",
      "1             0            0           1             0\n",
      "2             0            1           0             0\n",
      "3             1            0           0             0\n",
      "4             0            1           0             0\n",
      "5             0            0           0             1\n"
     ]
    }
   ],
   "source": [
    "#Using the Dictionary(sets) and list data structure in DataFrame\n",
    "df = pd.DataFrame({\"col1\": [\"Sun\", \"Sun\", \"Moon\", \"Earth\", \"Moon\", \"Venus\"]})\n",
    "print(\"The original data\")\n",
    "print(df)\n",
    "\n",
    "#Taking 30 Star[*]\n",
    "print(\"*\" * 30)\n",
    "\n",
    "#The Python library Pandas provides a function called 'get_dummies' to enable one-hot encoding.\n",
    "#The parameter 'prefix' indicates the 'prefix' of the new column name.\n",
    "df_new = pd.get_dummies(df, columns=[\"col1\"], prefix=\"Planet\")\n",
    "print(\"The transform data using get_dummies\")\n",
    "print(df_new)"
   ]
  },
  {
   "cell_type": "code",
   "execution_count": 12,
   "id": "488c0c0e-a6d3-40cd-aafa-a59ed6ff6f50",
   "metadata": {},
   "outputs": [
    {
     "name": "stdout",
     "output_type": "stream",
     "text": [
      "   Ids   Cities\n",
      "0   11  Seattle\n",
      "1   22   London\n",
      "2   33   Lahore\n",
      "3   44   Berlin\n",
      "4   55    Abuja\n"
     ]
    }
   ],
   "source": [
    "ids = [11, 22, 33, 44, 55, 66, 77]\n",
    "countries = ['Seattle', 'London', 'Lahore', 'Berlin', 'Abuja']\n",
    "\n",
    " #Here we have a Pandas dataframe called df with two lists: 'ids' and 'Cities'\n",
    "df = pd.DataFrame(list(zip(ids, countries)),columns=['Ids', 'Cities'])\n",
    "print(df)"
   ]
  },
  {
   "cell_type": "code",
   "execution_count": 21,
   "id": "934b5493-fddc-4253-b100-e00b0abc2fdb",
   "metadata": {},
   "outputs": [
    {
     "name": "stdout",
     "output_type": "stream",
     "text": [
      "The original data\n",
      "      col1\n",
      "0  Seattle\n",
      "1   London\n",
      "2   Lahore\n",
      "3   Berlin\n",
      "4    Abuja\n",
      "******************************\n",
      "The transform data using get_dummies\n",
      "   Cities_Abuja  Cities_Berlin  Cities_Lahore  Cities_London  Cities_Seattle\n",
      "0             0              0              0              0               1\n",
      "1             0              0              0              1               0\n",
      "2             0              0              1              0               0\n",
      "3             0              1              0              0               0\n",
      "4             1              0              0              0               0\n"
     ]
    }
   ],
   "source": [
    "df = pd.DataFrame({\"col1\": [\"Seattle\", \"London\", \"Lahore\", \"Berlin\", \"Abuja\"]})\n",
    "print(\"The original data\")\n",
    "print(df)\n",
    "\n",
    "print(\"*\" * 30)\n",
    "\n",
    "\n",
    "df_new = pd.get_dummies(df, columns=[\"col1\"], prefix=\"Cities\")\n",
    "print(\"The transform data using get_dummies\")\n",
    "print(df_new)"
   ]
  },
  {
   "cell_type": "code",
   "execution_count": 11,
   "id": "3b9381d8-144f-4344-a6e9-dbdb612a8e55",
   "metadata": {},
   "outputs": [
    {
     "name": "stdout",
     "output_type": "stream",
     "text": [
      "(('John', 'Jenny'), ('Charles', 'Christy'), ('Mike', 'Monica'))\n"
     ]
    }
   ],
   "source": [
    "#Join two Tuples together\n",
    "a = (\"John\", \"Charles\", \"Mike\")\n",
    "b = (\"Jenny\", \"Christy\", \"Monica\")\n",
    "\n",
    "x = zip(a, b)\n",
    "print(tuple(x))"
   ]
  },
  {
   "cell_type": "code",
   "execution_count": 10,
   "id": "a3f9d3f7-6be0-411e-bd98-163b36b39786",
   "metadata": {},
   "outputs": [
    {
     "data": {
      "text/plain": [
       "<zip at 0x151ad37f900>"
      ]
     },
     "execution_count": 10,
     "metadata": {},
     "output_type": "execute_result"
    }
   ],
   "source": []
  },
  {
   "cell_type": "code",
   "execution_count": 25,
   "id": "5bbcb0ec-5f61-4cb0-b24e-b06f16f3f02a",
   "metadata": {},
   "outputs": [
    {
     "name": "stdout",
     "output_type": "stream",
     "text": [
      "The original data\n",
      "['red' 'green' 'blue' 'yellow' 'pink' 'white']\n",
      "The transform data using OneHotEncoder\n",
      "[[0. 0. 0. 1. 0. 0.]\n",
      " [0. 1. 0. 0. 0. 0.]\n",
      " [1. 0. 0. 0. 0. 0.]\n",
      " [0. 0. 0. 0. 0. 1.]\n",
      " [0. 0. 1. 0. 0. 0.]\n",
      " [0. 0. 0. 0. 1. 0.]]\n"
     ]
    }
   ],
   "source": [
    "'''We can implement a similar functionality with Sklearn,\n",
    "which provides an object/function for one-hot encoding in the preprocessing module'''\n",
    "\n",
    "import sklearn.preprocessing as preprocessing\n",
    "import numpy as np\n",
    "import pandas as pd\n",
    "\n",
    "targets = np.array([\"red\", \"green\", \"blue\", \"yellow\", \"pink\",\n",
    "                    \"white\"])\n",
    "#We use LabelEncoder to convert the string to int on line 7 and line 8.\n",
    "labelEnc = preprocessing.LabelEncoder()\n",
    "new_target = labelEnc.fit_transform(targets)\n",
    "\n",
    "#Line 9 creates our OneHotEncoder object.\n",
    "onehotEnc = preprocessing.OneHotEncoder()\n",
    "\n",
    "#Line 10 fits the original feature using fit().\n",
    "onehotEnc.fit(new_target.reshape(-1, 1))\n",
    "\n",
    "#Line 11 converts the original feature to the new feature using one-hot encoding.\n",
    "targets_trans = onehotEnc.transform(new_target.reshape(-1, 1))\n",
    "print(\"The original data\")\n",
    "print(targets)\n",
    "print(\"The transform data using OneHotEncoder\")\n",
    "\n",
    "#You can see the new data from the output of line 15.\n",
    "print(targets_trans.toarray())"
   ]
  },
  {
   "cell_type": "code",
   "execution_count": 26,
   "id": "4eec7efc-21d2-4174-88d3-f3e6377e8720",
   "metadata": {},
   "outputs": [],
   "source": [
    "#Let’s see the OneHotEncoder class in action with another example. First, here’s how to import the class.\n",
    "from sklearn.preprocessing import OneHotEncoder "
   ]
  },
  {
   "cell_type": "code",
   "execution_count": 27,
   "id": "8c077027-0f63-4932-acc3-fddecf7ccee8",
   "metadata": {},
   "outputs": [
    {
     "name": "stdout",
     "output_type": "stream",
     "text": [
      "[[1. 0. 0. 0. 0. 0. 0. 0. 0. 1.]\n",
      " [0. 1. 0. 0. 0. 0. 0. 0. 1. 0.]\n",
      " [0. 0. 1. 0. 0. 0. 0. 1. 0. 0.]\n",
      " [0. 0. 0. 1. 0. 0. 1. 0. 0. 0.]\n",
      " [0. 0. 0. 0. 1. 1. 0. 0. 0. 0.]]\n"
     ]
    }
   ],
   "source": [
    "#Like before, we first populate our list of unique values for the encoder.\n",
    "x = [[11, \"Seattle\"], [22, \"London\"], [33, \"Lahore\"], [44, \"Berlin\"], [55, \"Abuja\"]]\n",
    "y = OneHotEncoder().fit_transform(x).toarray()\n",
    "#When we print this, we get the following for our now encoded values:\n",
    "print(y)"
   ]
  },
  {
   "cell_type": "code",
   "execution_count": null,
   "id": "b72b7ddc-3122-4950-a8c7-ccd53e31bdd9",
   "metadata": {},
   "outputs": [],
   "source": [
    "Reference:https://www.educative.io/blog/one-hot-encoding"
   ]
  }
 ],
 "metadata": {
  "kernelspec": {
   "display_name": "Python 3 (ipykernel)",
   "language": "python",
   "name": "python3"
  },
  "language_info": {
   "codemirror_mode": {
    "name": "ipython",
    "version": 3
   },
   "file_extension": ".py",
   "mimetype": "text/x-python",
   "name": "python",
   "nbconvert_exporter": "python",
   "pygments_lexer": "ipython3",
   "version": "3.9.13"
  }
 },
 "nbformat": 4,
 "nbformat_minor": 5
}
