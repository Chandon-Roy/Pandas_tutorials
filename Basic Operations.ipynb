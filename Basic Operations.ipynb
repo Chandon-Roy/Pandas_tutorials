{
 "cells": [
  {
   "cell_type": "code",
   "execution_count": null,
   "id": "e70c0c5a-8465-413f-bd64-d99641545542",
   "metadata": {},
   "outputs": [],
   "source": [
    "#basic operations"
   ]
  },
  {
   "cell_type": "code",
   "execution_count": 2,
   "id": "7b6a1cb5-b641-4b58-b4cb-3470e5c8d1ea",
   "metadata": {},
   "outputs": [],
   "source": [
    "import pandas as pd\n",
    "import numpy as np"
   ]
  },
  {
   "cell_type": "code",
   "execution_count": 9,
   "id": "fe26f271-6a6d-48d8-a870-8212161f0e53",
   "metadata": {},
   "outputs": [
    {
     "name": "stdout",
     "output_type": "stream",
     "text": [
      "   Array_1  Array_2\n",
      "0     60.0     65.1\n",
      "1     70.0     60.0\n"
     ]
    }
   ],
   "source": [
    "#Example of the replace() method\n",
    "df = {\n",
    "\"Array_1\": [49.50, 70],\n",
    "\"Array_2\": [65.1, 49.50]\n",
    "}\n",
    "\n",
    "df = pd.DataFrame(df)\n",
    "\n",
    "print(df.replace(49.50, 60))"
   ]
  },
  {
   "cell_type": "code",
   "execution_count": 12,
   "id": "4b8d1d9b-1223-4641-9301-1499744c07ec",
   "metadata": {},
   "outputs": [
    {
     "data": {
      "text/plain": [
       "'puiit'"
      ]
     },
     "execution_count": 12,
     "metadata": {},
     "output_type": "execute_result"
    }
   ],
   "source": [
    "# replace() method used to replace orginal values\n",
    "str = 'punnt'\n",
    "num = 3\n",
    "str.replace('n','i')"
   ]
  },
  {
   "cell_type": "code",
   "execution_count": 30,
   "id": "0554c19b-19a1-4d0a-9529-3fdef13737a5",
   "metadata": {},
   "outputs": [
    {
     "name": "stdout",
     "output_type": "stream",
     "text": [
      "[['red'], ['green'], ['blue']]\n",
      "[[2.]\n",
      " [1.]\n",
      " [0.]]\n"
     ]
    }
   ],
   "source": [
    "from sklearn.preprocessing import OrdinalEncoder\n",
    "\n",
    "data =([['red'], ['green'], ['blue']])\n",
    "print(data)\n",
    "\n",
    "obj=OrdinalEncoder()\n",
    "result=obj.fit_transform(data)\n",
    "print(result)"
   ]
  }
 ],
 "metadata": {
  "kernelspec": {
   "display_name": "Python 3 (ipykernel)",
   "language": "python",
   "name": "python3"
  },
  "language_info": {
   "codemirror_mode": {
    "name": "ipython",
    "version": 3
   },
   "file_extension": ".py",
   "mimetype": "text/x-python",
   "name": "python",
   "nbconvert_exporter": "python",
   "pygments_lexer": "ipython3",
   "version": "3.9.13"
  }
 },
 "nbformat": 4,
 "nbformat_minor": 5
}
