{
 "cells": [
  {
   "cell_type": "markdown",
   "id": "676dc6de-c3b0-42e4-b964-94f0ae7f8753",
   "metadata": {},
   "source": [
    "<h4>Defination of Label Encoding:-</h4>\n",
    "    <p>Label Encoding is a popular encoding technique for handling categorical variables. In this technique, each label is assigned a unique integer based on alphabetical ordering.<p>"
   ]
  },
  {
   "cell_type": "code",
   "execution_count": 21,
   "id": "0d0dddfb-c411-4af8-ac95-c01b0114befe",
   "metadata": {},
   "outputs": [],
   "source": [
    "import pandas as pd \n",
    "import numpy as np"
   ]
  },
  {
   "cell_type": "code",
   "execution_count": 29,
   "id": "08dbfd20-c720-44eb-ab06-20f6b91d7552",
   "metadata": {},
   "outputs": [
    {
     "name": "stdout",
     "output_type": "stream",
     "text": [
      "   Height\n",
      "0    Tail\n",
      "1  Medium\n",
      "2   Short\n"
     ]
    }
   ],
   "source": [
    "#Create DataFrame\n",
    "man_height ={\n",
    "    'Height': ['Tail','Medium','Short']\n",
    "}\n",
    "df = pd.DataFrame(man_height)\n",
    "\n",
    "print(df)"
   ]
  },
  {
   "cell_type": "code",
   "execution_count": 49,
   "id": "a335a5aa-56c3-41ec-9855-43a06095bb26",
   "metadata": {},
   "outputs": [
    {
     "name": "stdout",
     "output_type": "stream",
     "text": [
      "['Tail' 'Medium' 'Short']\n",
      "Data Frame after Label Encoding:\n",
      "\n",
      "{'Height': array([2, 0, 1], dtype=int64)}\n",
      "Where 2 is the label for Tail,0 is the label for Medium,and 1 is the label for Short\n",
      "\n"
     ]
    }
   ],
   "source": [
    "from sklearn import preprocessing\n",
    "\n",
    "# label_encoder 'object' knows how to understand word labels.\n",
    "La_encode = preprocessing.LabelEncoder()\n",
    "\n",
    "# Encode labels in column 'species'\n",
    "man_height [ 'Height' ] = La_encode.fit_transform(man_height['Height'])\n",
    "print(df[ 'Height' ].unique())\n",
    "\n",
    "print(\"Data Frame after Label Encoding:\\n\")\n",
    "print(man_height)\n",
    "print('Where 2 is the label for Tail, 0 is the label for Medium, and 1 is the label for Short\\n')"
   ]
  },
  {
   "cell_type": "code",
   "execution_count": 39,
   "id": "e67e7d29-0ef8-4998-9ebe-846175f5f4a6",
   "metadata": {},
   "outputs": [
    {
     "name": "stdout",
     "output_type": "stream",
     "text": [
      "Geniune Data Frame:\n",
      "\n"
     ]
    }
   ],
   "source": [
    "#Create a DataFrame\n",
    "my_data = {  \n",
    "    \"Gender\" : ['F', 'M', 'M', 'F', 'M', 'F', 'M', 'F', 'F', 'M'],  \n",
    "    \"Name\" : ['Cindy', 'Carl', 'Johnny', 'Stacey', 'Andy', 'Sara', 'Victor', 'Martha', 'Mindy', 'Max']  \n",
    "        }  \n",
    "blk = pd.DataFrame(my_data)  \n",
    "print(\"Geniune Data Frame:\\n\")  "
   ]
  },
  {
   "cell_type": "code",
   "execution_count": 4,
   "id": "46a47c46-11d8-4671-b18c-cf1f788532d5",
   "metadata": {},
   "outputs": [
    {
     "data": {
      "text/html": [
       "<div>\n",
       "<style scoped>\n",
       "    .dataframe tbody tr th:only-of-type {\n",
       "        vertical-align: middle;\n",
       "    }\n",
       "\n",
       "    .dataframe tbody tr th {\n",
       "        vertical-align: top;\n",
       "    }\n",
       "\n",
       "    .dataframe thead th {\n",
       "        text-align: right;\n",
       "    }\n",
       "</style>\n",
       "<table border=\"1\" class=\"dataframe\">\n",
       "  <thead>\n",
       "    <tr style=\"text-align: right;\">\n",
       "      <th></th>\n",
       "      <th>Gender</th>\n",
       "      <th>Name</th>\n",
       "    </tr>\n",
       "  </thead>\n",
       "  <tbody>\n",
       "    <tr>\n",
       "      <th>0</th>\n",
       "      <td>F</td>\n",
       "      <td>Cindy</td>\n",
       "    </tr>\n",
       "    <tr>\n",
       "      <th>1</th>\n",
       "      <td>M</td>\n",
       "      <td>Carl</td>\n",
       "    </tr>\n",
       "    <tr>\n",
       "      <th>2</th>\n",
       "      <td>M</td>\n",
       "      <td>Johnny</td>\n",
       "    </tr>\n",
       "    <tr>\n",
       "      <th>3</th>\n",
       "      <td>F</td>\n",
       "      <td>Stacey</td>\n",
       "    </tr>\n",
       "    <tr>\n",
       "      <th>4</th>\n",
       "      <td>M</td>\n",
       "      <td>Andy</td>\n",
       "    </tr>\n",
       "    <tr>\n",
       "      <th>5</th>\n",
       "      <td>F</td>\n",
       "      <td>Sara</td>\n",
       "    </tr>\n",
       "    <tr>\n",
       "      <th>6</th>\n",
       "      <td>M</td>\n",
       "      <td>Victor</td>\n",
       "    </tr>\n",
       "    <tr>\n",
       "      <th>7</th>\n",
       "      <td>F</td>\n",
       "      <td>Martha</td>\n",
       "    </tr>\n",
       "    <tr>\n",
       "      <th>8</th>\n",
       "      <td>F</td>\n",
       "      <td>Mindy</td>\n",
       "    </tr>\n",
       "    <tr>\n",
       "      <th>9</th>\n",
       "      <td>M</td>\n",
       "      <td>Max</td>\n",
       "    </tr>\n",
       "  </tbody>\n",
       "</table>\n",
       "</div>"
      ],
      "text/plain": [
       "  Gender    Name\n",
       "0      F   Cindy\n",
       "1      M    Carl\n",
       "2      M  Johnny\n",
       "3      F  Stacey\n",
       "4      M    Andy\n",
       "5      F    Sara\n",
       "6      M  Victor\n",
       "7      F  Martha\n",
       "8      F   Mindy\n",
       "9      M     Max"
      ]
     },
     "execution_count": 4,
     "metadata": {},
     "output_type": "execute_result"
    }
   ],
   "source": [
    "blk"
   ]
  },
  {
   "cell_type": "code",
   "execution_count": 14,
   "id": "1ce7b8d9-0fa3-4c61-a401-f0e103a4d77b",
   "metadata": {},
   "outputs": [
    {
     "name": "stdout",
     "output_type": "stream",
     "text": [
      "Geniune Data Frame:\n",
      "\n",
      "  Gender    Name\n",
      "0      F   Cindy\n",
      "1      M    Carl\n",
      "2      M  Johnny\n",
      "3      F  Stacey\n",
      "4      M    Andy\n",
      "5      F    Sara\n",
      "6      M  Victor\n",
      "7      F  Martha\n",
      "8      F   Mindy\n",
      "9      M     Max\n",
      "[0 1]\n",
      "Data Frame after Label Encoding:\n",
      "\n",
      "   Gender    Name\n",
      "0       0   Cindy\n",
      "1       1    Carl\n",
      "2       1  Johnny\n",
      "3       0  Stacey\n",
      "4       1    Andy\n",
      "5       0    Sara\n",
      "6       1  Victor\n",
      "7       0  Martha\n",
      "8       0   Mindy\n",
      "9       1     Max\n"
     ]
    }
   ],
   "source": [
    "from sklearn import preprocessing   \n",
    "  \n",
    "my_data = {  \n",
    "    \"Gender\" : ['F', 'M', 'M', 'F', 'M', 'F', 'M', 'F', 'F', 'M'],  \n",
    "    \"Name\" : ['Cindy', 'Carl', 'Johnny', 'Stacey', 'Andy', 'Sara', 'Victor', 'Martha', 'Mindy', 'Max']  \n",
    "        }  \n",
    "blk = pd.DataFrame( my_data )  \n",
    "print(\"Geniune Data Frame:\\n\")  \n",
    "print( blk )  \n",
    "\n",
    "# label_encoder object knows how to understand word labels.\n",
    "my_label = preprocessing.LabelEncoder()  \n",
    " \n",
    "# Encode labels in column 'species'.  \n",
    "blk[ 'Gender' ]= my_label.fit_transform(blk[ 'Gender' ])   \n",
    "print(blk[ 'Gender' ].unique())  \n",
    "print(\"Data Frame after Label Encoding:\\n\")\n",
    "print(blk)"
   ]
  },
  {
   "cell_type": "code",
   "execution_count": 15,
   "id": "76ee8a95-6b01-411a-b85b-ae25f80fed86",
   "metadata": {},
   "outputs": [
    {
     "name": "stdout",
     "output_type": "stream",
     "text": [
      "Gender    object\n",
      "Name      object\n",
      "dtype: object\n"
     ]
    }
   ],
   "source": [
    "#We can check the data type using the dtypes function as shown below:\n",
    "my_data = {  \n",
    "    \"Gender\" : ['F', 'M', 'M', 'F', 'M', 'F', 'M', 'F', 'F', 'M'],  \n",
    "    \"Name\" : ['Cindy', 'Carl', 'Johnny', 'Stacey', 'Andy', 'Sara', 'Victor', 'Martha', 'Mindy', 'Max']  \n",
    "        }  \n",
    "blk = pd.DataFrame( my_data )  \n",
    "print( blk.dtypes )  "
   ]
  },
  {
   "cell_type": "code",
   "execution_count": 16,
   "id": "8e37bcf3-9921-40af-bc71-a522999fe6d5",
   "metadata": {},
   "outputs": [
    {
     "name": "stdout",
     "output_type": "stream",
     "text": [
      "Gender    category\n",
      "Name        object\n",
      "dtype: object\n"
     ]
    }
   ],
   "source": [
    "#Once we have checked the data type of the variable 'Gender', we will transform and convert it to category type.\n",
    "my_data = {  \n",
    "    \"Gender\" : ['F', 'M', 'M', 'F', 'M', 'F', 'M', 'F', 'F', 'M'],  \n",
    "    \"Name\" : ['Cindy', 'Carl', 'Johnny', 'Stacey', 'Andy', 'Sara', 'Victor', 'Martha', 'Mindy', 'Max']  \n",
    "        }  \n",
    "blk = pd.DataFrame( my_data )  \n",
    "blk[ 'Gender' ] = blk[ 'Gender' ].astype( 'category' )  \n",
    "  \n",
    "print( blk.dtypes )  "
   ]
  },
  {
   "cell_type": "code",
   "execution_count": null,
   "id": "8067c410-0f3a-430a-8120-f9b4636a114c",
   "metadata": {},
   "outputs": [],
   "source": [
    "'''Now, let us try transforming the labels into integer types with\n",
    "    the pandas.DataFrame.cat.codes function.\n",
    "    Here is a complete example based on label encoding using the category codes:\n",
    "'''\n",
    "my_data = {  \n",
    "    \"Gender\" : ['F', 'M', 'M', 'F', 'M', 'F', 'M', 'F', 'F', 'M'],  \n",
    "    \"Name\" : ['Cindy', 'Carl', 'Johnny', 'Stacey', 'Andy', 'Sara', 'Victor', 'Martha', 'Mindy', 'Max']  \n",
    "        }  \n",
    "blk = pd.DataFrame( my_data )  \n",
    "print(\"Genuine Data Frame:\\n\")  \n",
    "print( blk )  \n",
    "  \n",
    "blk[ 'Gender' ] = blk[ 'Gender' ].astype( 'category' )  \n",
    "print(\"\\nData Frame after Label Encoding using Category codes:\\n\")  \n",
    "blk[ 'Gender' ] = blk[ 'Gender' ].cat.codes  \n",
    "  \n",
    "print( blk )  "
   ]
  },
  {
   "cell_type": "code",
   "execution_count": null,
   "id": "06368dcf-0ce6-4043-b31c-f96e79b6efe0",
   "metadata": {},
   "outputs": [],
   "source": [
    "#Reference: https://www.javatpoint.com/label-encoding-in-python"
   ]
  }
 ],
 "metadata": {
  "kernelspec": {
   "display_name": "Python 3 (ipykernel)",
   "language": "python",
   "name": "python3"
  },
  "language_info": {
   "codemirror_mode": {
    "name": "ipython",
    "version": 3
   },
   "file_extension": ".py",
   "mimetype": "text/x-python",
   "name": "python",
   "nbconvert_exporter": "python",
   "pygments_lexer": "ipython3",
   "version": "3.9.13"
  }
 },
 "nbformat": 4,
 "nbformat_minor": 5
}
